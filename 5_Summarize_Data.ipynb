{
 "cells": [
  {
   "cell_type": "markdown",
   "id": "abstract-ghana",
   "metadata": {},
   "source": [
    "# Summarize Data"
   ]
  },
  {
   "cell_type": "markdown",
   "id": "included-february",
   "metadata": {},
   "source": [
    "### Import pandas & Load csv"
   ]
  },
  {
   "cell_type": "code",
   "execution_count": 1,
   "id": "sunrise-olive",
   "metadata": {},
   "outputs": [],
   "source": [
    "import pandas as pd\n",
    "df2 = pd.read_csv('2_player_info_ArsenalFC.csv')\n",
    "df2.drop(columns = ['Unnamed: 0'], inplace=True)"
   ]
  },
  {
   "cell_type": "markdown",
   "id": "naughty-dominant",
   "metadata": {},
   "source": [
    "### # of rows in DataFrame"
   ]
  },
  {
   "cell_type": "code",
   "execution_count": 2,
   "id": "chinese-trinity",
   "metadata": {},
   "outputs": [
    {
     "data": {
      "text/plain": [
       "26"
      ]
     },
     "execution_count": 2,
     "metadata": {},
     "output_type": "execute_result"
    }
   ],
   "source": [
    "len(df2)"
   ]
  },
  {
   "cell_type": "markdown",
   "id": "developing-blanket",
   "metadata": {},
   "source": [
    "### Basic descriptive statistics for each column (or GrupBy)"
   ]
  },
  {
   "cell_type": "code",
   "execution_count": 3,
   "id": "crazy-hello",
   "metadata": {},
   "outputs": [
    {
     "data": {
      "text/html": [
       "<div>\n",
       "<style scoped>\n",
       "    .dataframe tbody tr th:only-of-type {\n",
       "        vertical-align: middle;\n",
       "    }\n",
       "\n",
       "    .dataframe tbody tr th {\n",
       "        vertical-align: top;\n",
       "    }\n",
       "\n",
       "    .dataframe thead th {\n",
       "        text-align: right;\n",
       "    }\n",
       "</style>\n",
       "<table border=\"1\" class=\"dataframe\">\n",
       "  <thead>\n",
       "    <tr style=\"text-align: right;\">\n",
       "      <th></th>\n",
       "      <th>number</th>\n",
       "      <th>시장가치(억)</th>\n",
       "    </tr>\n",
       "  </thead>\n",
       "  <tbody>\n",
       "    <tr>\n",
       "      <th>count</th>\n",
       "      <td>26.000000</td>\n",
       "      <td>26.000000</td>\n",
       "    </tr>\n",
       "    <tr>\n",
       "      <th>mean</th>\n",
       "      <td>18.423077</td>\n",
       "      <td>285.949231</td>\n",
       "    </tr>\n",
       "    <tr>\n",
       "      <th>std</th>\n",
       "      <td>11.426891</td>\n",
       "      <td>195.976455</td>\n",
       "    </tr>\n",
       "    <tr>\n",
       "      <th>min</th>\n",
       "      <td>1.000000</td>\n",
       "      <td>4.026000</td>\n",
       "    </tr>\n",
       "    <tr>\n",
       "      <th>25%</th>\n",
       "      <td>9.500000</td>\n",
       "      <td>97.295000</td>\n",
       "    </tr>\n",
       "    <tr>\n",
       "      <th>50%</th>\n",
       "      <td>17.500000</td>\n",
       "      <td>301.950000</td>\n",
       "    </tr>\n",
       "    <tr>\n",
       "      <th>75%</th>\n",
       "      <td>24.750000</td>\n",
       "      <td>429.440000</td>\n",
       "    </tr>\n",
       "    <tr>\n",
       "      <th>max</th>\n",
       "      <td>44.000000</td>\n",
       "      <td>671.000000</td>\n",
       "    </tr>\n",
       "  </tbody>\n",
       "</table>\n",
       "</div>"
      ],
      "text/plain": [
       "          number     시장가치(억)\n",
       "count  26.000000   26.000000\n",
       "mean   18.423077  285.949231\n",
       "std    11.426891  195.976455\n",
       "min     1.000000    4.026000\n",
       "25%     9.500000   97.295000\n",
       "50%    17.500000  301.950000\n",
       "75%    24.750000  429.440000\n",
       "max    44.000000  671.000000"
      ]
     },
     "execution_count": 3,
     "metadata": {},
     "output_type": "execute_result"
    }
   ],
   "source": [
    "df2.describe()"
   ]
  },
  {
   "cell_type": "markdown",
   "id": "noted-prescription",
   "metadata": {},
   "source": [
    "### Sum values of each object"
   ]
  },
  {
   "cell_type": "code",
   "execution_count": 4,
   "id": "retired-diameter",
   "metadata": {},
   "outputs": [
    {
     "data": {
      "text/plain": [
       "7434.679999999999"
      ]
     },
     "execution_count": 4,
     "metadata": {},
     "output_type": "execute_result"
    }
   ],
   "source": [
    "df2['시장가치(억)'].sum()"
   ]
  },
  {
   "cell_type": "markdown",
   "id": "northern-truck",
   "metadata": {},
   "source": [
    "### Count non-NA/null values of each object"
   ]
  },
  {
   "cell_type": "code",
   "execution_count": 5,
   "id": "overhead-comparison",
   "metadata": {},
   "outputs": [
    {
     "data": {
      "text/plain": [
       "number         26\n",
       "name           26\n",
       "position       26\n",
       "birth (age)    26\n",
       "nation         26\n",
       "시장가치(억)        26\n",
       "dtype: int64"
      ]
     },
     "execution_count": 5,
     "metadata": {},
     "output_type": "execute_result"
    }
   ],
   "source": [
    "df2.count()"
   ]
  },
  {
   "cell_type": "markdown",
   "id": "complete-gospel",
   "metadata": {},
   "source": [
    "### Median value of each object"
   ]
  },
  {
   "cell_type": "code",
   "execution_count": 6,
   "id": "documentary-newport",
   "metadata": {},
   "outputs": [
    {
     "data": {
      "text/plain": [
       "number      17.50\n",
       "시장가치(억)    301.95\n",
       "dtype: float64"
      ]
     },
     "execution_count": 6,
     "metadata": {},
     "output_type": "execute_result"
    }
   ],
   "source": [
    "df2.median()"
   ]
  },
  {
   "cell_type": "markdown",
   "id": "expected-stereo",
   "metadata": {},
   "source": [
    "### Quantiles of each object"
   ]
  },
  {
   "cell_type": "code",
   "execution_count": 7,
   "id": "cubic-transportation",
   "metadata": {},
   "outputs": [
    {
     "data": {
      "text/html": [
       "<div>\n",
       "<style scoped>\n",
       "    .dataframe tbody tr th:only-of-type {\n",
       "        vertical-align: middle;\n",
       "    }\n",
       "\n",
       "    .dataframe tbody tr th {\n",
       "        vertical-align: top;\n",
       "    }\n",
       "\n",
       "    .dataframe thead th {\n",
       "        text-align: right;\n",
       "    }\n",
       "</style>\n",
       "<table border=\"1\" class=\"dataframe\">\n",
       "  <thead>\n",
       "    <tr style=\"text-align: right;\">\n",
       "      <th></th>\n",
       "      <th>number</th>\n",
       "      <th>시장가치(억)</th>\n",
       "    </tr>\n",
       "  </thead>\n",
       "  <tbody>\n",
       "    <tr>\n",
       "      <th>0.25</th>\n",
       "      <td>9.50</td>\n",
       "      <td>97.295</td>\n",
       "    </tr>\n",
       "    <tr>\n",
       "      <th>0.75</th>\n",
       "      <td>24.75</td>\n",
       "      <td>429.440</td>\n",
       "    </tr>\n",
       "  </tbody>\n",
       "</table>\n",
       "</div>"
      ],
      "text/plain": [
       "      number  시장가치(억)\n",
       "0.25    9.50   97.295\n",
       "0.75   24.75  429.440"
      ]
     },
     "execution_count": 7,
     "metadata": {},
     "output_type": "execute_result"
    }
   ],
   "source": [
    "df2.quantile([0.25, 0.75])"
   ]
  },
  {
   "cell_type": "markdown",
   "id": "inappropriate-bikini",
   "metadata": {},
   "source": [
    "### Apply function to each object"
   ]
  },
  {
   "cell_type": "code",
   "execution_count": 8,
   "id": "geological-responsibility",
   "metadata": {},
   "outputs": [
    {
     "data": {
      "text/plain": [
       "0    429.0\n",
       "1    107.0\n",
       "2     27.0\n",
       "3      4.0\n",
       "4    376.0\n",
       "Name: 시장가치(억), dtype: float64"
      ]
     },
     "execution_count": 8,
     "metadata": {},
     "output_type": "execute_result"
    }
   ],
   "source": [
    "import numpy as np\n",
    "df2['시장가치(억)'].apply(np.round).head()"
   ]
  },
  {
   "cell_type": "code",
   "execution_count": 9,
   "id": "brazilian-oxide",
   "metadata": {},
   "outputs": [
    {
     "data": {
      "text/plain": [
       "0    430\n",
       "1    108\n",
       "2     27\n",
       "3      5\n",
       "4    376\n",
       "Name: 시장가치(억), dtype: int64"
      ]
     },
     "execution_count": 9,
     "metadata": {},
     "output_type": "execute_result"
    }
   ],
   "source": [
    "import math\n",
    "df2['시장가치(억)'].apply(math.ceil).head()"
   ]
  },
  {
   "cell_type": "markdown",
   "id": "occupied-sewing",
   "metadata": {},
   "source": [
    "### Minimum value in each object"
   ]
  },
  {
   "cell_type": "code",
   "execution_count": 10,
   "id": "further-forward",
   "metadata": {},
   "outputs": [
    {
     "data": {
      "text/plain": [
       "number                           1\n",
       "name           Alexandre Lacazette\n",
       "position        Attacking Midfield\n",
       "birth (age)      Apr 22, 1987 (33)\n",
       "nation                   Australia\n",
       "시장가치(억)                      4.026\n",
       "dtype: object"
      ]
     },
     "execution_count": 10,
     "metadata": {},
     "output_type": "execute_result"
    }
   ],
   "source": [
    "df2.min()"
   ]
  },
  {
   "cell_type": "markdown",
   "id": "modified-baking",
   "metadata": {},
   "source": [
    "### Maximum value in each object"
   ]
  },
  {
   "cell_type": "code",
   "execution_count": 11,
   "id": "victorian-checklist",
   "metadata": {},
   "outputs": [
    {
     "data": {
      "text/plain": [
       "number                       44\n",
       "name                    Willian\n",
       "position             Right-Back\n",
       "birth (age)    Sep 5, 2001 (19)\n",
       "nation              Switzerland\n",
       "시장가치(억)                   671.0\n",
       "dtype: object"
      ]
     },
     "execution_count": 11,
     "metadata": {},
     "output_type": "execute_result"
    }
   ],
   "source": [
    "df2.max()"
   ]
  },
  {
   "cell_type": "markdown",
   "id": "special-karen",
   "metadata": {},
   "source": [
    "### Mean value of each object"
   ]
  },
  {
   "cell_type": "code",
   "execution_count": 12,
   "id": "matched-house",
   "metadata": {},
   "outputs": [
    {
     "data": {
      "text/plain": [
       "number      18.423077\n",
       "시장가치(억)    285.949231\n",
       "dtype: float64"
      ]
     },
     "execution_count": 12,
     "metadata": {},
     "output_type": "execute_result"
    }
   ],
   "source": [
    "df2.mean()"
   ]
  },
  {
   "cell_type": "markdown",
   "id": "selective-meditation",
   "metadata": {},
   "source": [
    "### Variance of each object"
   ]
  },
  {
   "cell_type": "code",
   "execution_count": 13,
   "id": "lucky-store",
   "metadata": {},
   "outputs": [
    {
     "data": {
      "text/plain": [
       "number       130.573846\n",
       "시장가치(억)    38406.770873\n",
       "dtype: float64"
      ]
     },
     "execution_count": 13,
     "metadata": {},
     "output_type": "execute_result"
    }
   ],
   "source": [
    "df2.var()"
   ]
  },
  {
   "cell_type": "markdown",
   "id": "uniform-visit",
   "metadata": {},
   "source": [
    "### Standard deviation of each object"
   ]
  },
  {
   "cell_type": "code",
   "execution_count": 14,
   "id": "posted-uganda",
   "metadata": {},
   "outputs": [
    {
     "data": {
      "text/plain": [
       "number      11.426891\n",
       "시장가치(억)    195.976455\n",
       "dtype: float64"
      ]
     },
     "execution_count": 14,
     "metadata": {},
     "output_type": "execute_result"
    }
   ],
   "source": [
    "df2.std()"
   ]
  },
  {
   "cell_type": "markdown",
   "id": "included-porter",
   "metadata": {},
   "source": [
    "### Trim values at input thresholds"
   ]
  },
  {
   "cell_type": "code",
   "execution_count": 15,
   "id": "square-polls",
   "metadata": {},
   "outputs": [
    {
     "data": {
      "text/plain": [
       "0    300.00\n",
       "1    107.36\n",
       "2    100.00\n",
       "3    100.00\n",
       "4    300.00\n",
       "Name: 시장가치(억), dtype: float64"
      ]
     },
     "execution_count": 15,
     "metadata": {},
     "output_type": "execute_result"
    }
   ],
   "source": [
    "df2['시장가치(억)'].clip(lower = 100, upper = 300).head()"
   ]
  },
  {
   "cell_type": "markdown",
   "id": "continental-bandwidth",
   "metadata": {},
   "source": [
    "### Absolute value"
   ]
  },
  {
   "cell_type": "code",
   "execution_count": 16,
   "id": "occasional-friendly",
   "metadata": {},
   "outputs": [
    {
     "data": {
      "text/plain": [
       "0    429.440\n",
       "1    107.360\n",
       "2     26.840\n",
       "3      4.026\n",
       "4    375.760\n",
       "Name: 시장가치(억), dtype: float64"
      ]
     },
     "execution_count": 16,
     "metadata": {},
     "output_type": "execute_result"
    }
   ],
   "source": [
    "df2['시장가치(억)'].abs().head()"
   ]
  },
  {
   "cell_type": "markdown",
   "id": "exotic-aberdeen",
   "metadata": {},
   "source": [
    "### Mode value"
   ]
  },
  {
   "cell_type": "code",
   "execution_count": 17,
   "id": "domestic-rebel",
   "metadata": {},
   "outputs": [
    {
     "data": {
      "text/plain": [
       "0    Centre-Back\n",
       "dtype: object"
      ]
     },
     "execution_count": 17,
     "metadata": {},
     "output_type": "execute_result"
    }
   ],
   "source": [
    "df2['position'].mode()"
   ]
  },
  {
   "cell_type": "code",
   "execution_count": 18,
   "id": "personal-composer",
   "metadata": {},
   "outputs": [
    {
     "data": {
      "text/plain": [
       "0    England\n",
       "dtype: object"
      ]
     },
     "execution_count": 18,
     "metadata": {},
     "output_type": "execute_result"
    }
   ],
   "source": [
    "df2['nation'].mode()"
   ]
  }
 ],
 "metadata": {
  "kernelspec": {
   "display_name": "Python 3",
   "language": "python",
   "name": "python3"
  },
  "language_info": {
   "codemirror_mode": {
    "name": "ipython",
    "version": 3
   },
   "file_extension": ".py",
   "mimetype": "text/x-python",
   "name": "python",
   "nbconvert_exporter": "python",
   "pygments_lexer": "ipython3",
   "version": "3.8.5"
  }
 },
 "nbformat": 4,
 "nbformat_minor": 5
}
