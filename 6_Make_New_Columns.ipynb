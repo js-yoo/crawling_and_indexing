{
 "cells": [
  {
   "cell_type": "markdown",
   "id": "alpha-cathedral",
   "metadata": {},
   "source": [
    "# Make New Columns"
   ]
  },
  {
   "cell_type": "markdown",
   "id": "peripheral-dictionary",
   "metadata": {},
   "source": [
    "### Import pandas & Load csv"
   ]
  },
  {
   "cell_type": "code",
   "execution_count": 1,
   "id": "underlying-assistant",
   "metadata": {},
   "outputs": [],
   "source": [
    "import pandas as pd\n",
    "df2 = pd.read_csv('2_player_info_ArsenalFC.csv')\n",
    "df2.drop(columns = ['Unnamed: 0'], inplace=True)"
   ]
  },
  {
   "cell_type": "markdown",
   "id": "impressive-greek",
   "metadata": {},
   "source": [
    "### Compute and append one or more new columns"
   ]
  },
  {
   "cell_type": "code",
   "execution_count": 2,
   "id": "daily-shuttle",
   "metadata": {
    "scrolled": true
   },
   "outputs": [
    {
     "data": {
      "text/html": [
       "<div>\n",
       "<style scoped>\n",
       "    .dataframe tbody tr th:only-of-type {\n",
       "        vertical-align: middle;\n",
       "    }\n",
       "\n",
       "    .dataframe tbody tr th {\n",
       "        vertical-align: top;\n",
       "    }\n",
       "\n",
       "    .dataframe thead th {\n",
       "        text-align: right;\n",
       "    }\n",
       "</style>\n",
       "<table border=\"1\" class=\"dataframe\">\n",
       "  <thead>\n",
       "    <tr style=\"text-align: right;\">\n",
       "      <th></th>\n",
       "      <th>number</th>\n",
       "      <th>name</th>\n",
       "      <th>position</th>\n",
       "      <th>birth (age)</th>\n",
       "      <th>nation</th>\n",
       "      <th>시장가치(억)</th>\n",
       "      <th>sex</th>\n",
       "    </tr>\n",
       "  </thead>\n",
       "  <tbody>\n",
       "    <tr>\n",
       "      <th>0</th>\n",
       "      <td>1</td>\n",
       "      <td>Bernd Leno</td>\n",
       "      <td>Goalkeeper</td>\n",
       "      <td>Mar 4, 1992 (28)</td>\n",
       "      <td>Germany</td>\n",
       "      <td>429.440</td>\n",
       "      <td>Male</td>\n",
       "    </tr>\n",
       "    <tr>\n",
       "      <th>1</th>\n",
       "      <td>33</td>\n",
       "      <td>Mathew Ryan</td>\n",
       "      <td>Goalkeeper</td>\n",
       "      <td>Apr 8, 1992 (28)</td>\n",
       "      <td>Australia</td>\n",
       "      <td>107.360</td>\n",
       "      <td>Male</td>\n",
       "    </tr>\n",
       "    <tr>\n",
       "      <th>2</th>\n",
       "      <td>13</td>\n",
       "      <td>Rúnar Alex Rúnarsson</td>\n",
       "      <td>Goalkeeper</td>\n",
       "      <td>Feb 18, 1995 (25)</td>\n",
       "      <td>Iceland</td>\n",
       "      <td>26.840</td>\n",
       "      <td>Male</td>\n",
       "    </tr>\n",
       "    <tr>\n",
       "      <th>3</th>\n",
       "      <td>44</td>\n",
       "      <td>Dejan Iliev</td>\n",
       "      <td>Goalkeeper</td>\n",
       "      <td>Feb 25, 1995 (25)</td>\n",
       "      <td>North Macedonia</td>\n",
       "      <td>4.026</td>\n",
       "      <td>Male</td>\n",
       "    </tr>\n",
       "    <tr>\n",
       "      <th>4</th>\n",
       "      <td>6</td>\n",
       "      <td>Gabriel</td>\n",
       "      <td>Centre-Back</td>\n",
       "      <td>Dec 19, 1997 (23)</td>\n",
       "      <td>Brazil</td>\n",
       "      <td>375.760</td>\n",
       "      <td>Male</td>\n",
       "    </tr>\n",
       "  </tbody>\n",
       "</table>\n",
       "</div>"
      ],
      "text/plain": [
       "   number                  name     position        birth (age)  \\\n",
       "0       1            Bernd Leno   Goalkeeper   Mar 4, 1992 (28)   \n",
       "1      33           Mathew Ryan   Goalkeeper   Apr 8, 1992 (28)   \n",
       "2      13  Rúnar Alex Rúnarsson   Goalkeeper  Feb 18, 1995 (25)   \n",
       "3      44           Dejan Iliev   Goalkeeper  Feb 25, 1995 (25)   \n",
       "4       6               Gabriel  Centre-Back  Dec 19, 1997 (23)   \n",
       "\n",
       "            nation  시장가치(억)   sex  \n",
       "0          Germany  429.440  Male  \n",
       "1        Australia  107.360  Male  \n",
       "2          Iceland   26.840  Male  \n",
       "3  North Macedonia    4.026  Male  \n",
       "4           Brazil  375.760  Male  "
      ]
     },
     "execution_count": 2,
     "metadata": {},
     "output_type": "execute_result"
    }
   ],
   "source": [
    "df2.assign(sex = lambda df2: 'Male').head()"
   ]
  },
  {
   "cell_type": "markdown",
   "id": "cooked-pulse",
   "metadata": {},
   "source": [
    "### Add single column"
   ]
  },
  {
   "cell_type": "code",
   "execution_count": 3,
   "id": "distinct-trail",
   "metadata": {},
   "outputs": [
    {
     "data": {
      "text/html": [
       "<div>\n",
       "<style scoped>\n",
       "    .dataframe tbody tr th:only-of-type {\n",
       "        vertical-align: middle;\n",
       "    }\n",
       "\n",
       "    .dataframe tbody tr th {\n",
       "        vertical-align: top;\n",
       "    }\n",
       "\n",
       "    .dataframe thead th {\n",
       "        text-align: right;\n",
       "    }\n",
       "</style>\n",
       "<table border=\"1\" class=\"dataframe\">\n",
       "  <thead>\n",
       "    <tr style=\"text-align: right;\">\n",
       "      <th></th>\n",
       "      <th>number</th>\n",
       "      <th>name</th>\n",
       "      <th>position</th>\n",
       "      <th>birth (age)</th>\n",
       "      <th>nation</th>\n",
       "      <th>시장가치(억)</th>\n",
       "      <th>male</th>\n",
       "    </tr>\n",
       "  </thead>\n",
       "  <tbody>\n",
       "    <tr>\n",
       "      <th>0</th>\n",
       "      <td>1</td>\n",
       "      <td>Bernd Leno</td>\n",
       "      <td>Goalkeeper</td>\n",
       "      <td>Mar 4, 1992 (28)</td>\n",
       "      <td>Germany</td>\n",
       "      <td>429.440</td>\n",
       "      <td>O</td>\n",
       "    </tr>\n",
       "    <tr>\n",
       "      <th>1</th>\n",
       "      <td>33</td>\n",
       "      <td>Mathew Ryan</td>\n",
       "      <td>Goalkeeper</td>\n",
       "      <td>Apr 8, 1992 (28)</td>\n",
       "      <td>Australia</td>\n",
       "      <td>107.360</td>\n",
       "      <td>O</td>\n",
       "    </tr>\n",
       "    <tr>\n",
       "      <th>2</th>\n",
       "      <td>13</td>\n",
       "      <td>Rúnar Alex Rúnarsson</td>\n",
       "      <td>Goalkeeper</td>\n",
       "      <td>Feb 18, 1995 (25)</td>\n",
       "      <td>Iceland</td>\n",
       "      <td>26.840</td>\n",
       "      <td>O</td>\n",
       "    </tr>\n",
       "    <tr>\n",
       "      <th>3</th>\n",
       "      <td>44</td>\n",
       "      <td>Dejan Iliev</td>\n",
       "      <td>Goalkeeper</td>\n",
       "      <td>Feb 25, 1995 (25)</td>\n",
       "      <td>North Macedonia</td>\n",
       "      <td>4.026</td>\n",
       "      <td>O</td>\n",
       "    </tr>\n",
       "    <tr>\n",
       "      <th>4</th>\n",
       "      <td>6</td>\n",
       "      <td>Gabriel</td>\n",
       "      <td>Centre-Back</td>\n",
       "      <td>Dec 19, 1997 (23)</td>\n",
       "      <td>Brazil</td>\n",
       "      <td>375.760</td>\n",
       "      <td>O</td>\n",
       "    </tr>\n",
       "  </tbody>\n",
       "</table>\n",
       "</div>"
      ],
      "text/plain": [
       "   number                  name     position        birth (age)  \\\n",
       "0       1            Bernd Leno   Goalkeeper   Mar 4, 1992 (28)   \n",
       "1      33           Mathew Ryan   Goalkeeper   Apr 8, 1992 (28)   \n",
       "2      13  Rúnar Alex Rúnarsson   Goalkeeper  Feb 18, 1995 (25)   \n",
       "3      44           Dejan Iliev   Goalkeeper  Feb 25, 1995 (25)   \n",
       "4       6               Gabriel  Centre-Back  Dec 19, 1997 (23)   \n",
       "\n",
       "            nation  시장가치(억) male  \n",
       "0          Germany  429.440    O  \n",
       "1        Australia  107.360    O  \n",
       "2          Iceland   26.840    O  \n",
       "3  North Macedonia    4.026    O  \n",
       "4           Brazil  375.760    O  "
      ]
     },
     "execution_count": 3,
     "metadata": {},
     "output_type": "execute_result"
    }
   ],
   "source": [
    "df2['male'] = 'O'\n",
    "df2.head()"
   ]
  }
 ],
 "metadata": {
  "kernelspec": {
   "display_name": "Python 3",
   "language": "python",
   "name": "python3"
  },
  "language_info": {
   "codemirror_mode": {
    "name": "ipython",
    "version": 3
   },
   "file_extension": ".py",
   "mimetype": "text/x-python",
   "name": "python",
   "nbconvert_exporter": "python",
   "pygments_lexer": "ipython3",
   "version": "3.8.5"
  }
 },
 "nbformat": 4,
 "nbformat_minor": 5
}
