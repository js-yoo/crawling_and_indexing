{
 "cells": [
  {
   "cell_type": "markdown",
   "id": "danish-health",
   "metadata": {},
   "source": [
    "# Subset Variables"
   ]
  },
  {
   "cell_type": "markdown",
   "id": "standing-relation",
   "metadata": {},
   "source": [
    "### Import pandas & Load csv"
   ]
  },
  {
   "cell_type": "code",
   "execution_count": 1,
   "id": "excessive-spectacular",
   "metadata": {},
   "outputs": [],
   "source": [
    "import pandas as pd\n",
    "df2 = pd.read_csv('2_player_info_ArsenalFC.csv')\n",
    "df2.drop(columns = ['Unnamed: 0'], inplace=True)"
   ]
  },
  {
   "cell_type": "markdown",
   "id": "confused-shame",
   "metadata": {},
   "source": [
    "### Select multiple columns with specific names"
   ]
  },
  {
   "cell_type": "code",
   "execution_count": 2,
   "id": "auburn-heavy",
   "metadata": {},
   "outputs": [
    {
     "data": {
      "text/html": [
       "<div>\n",
       "<style scoped>\n",
       "    .dataframe tbody tr th:only-of-type {\n",
       "        vertical-align: middle;\n",
       "    }\n",
       "\n",
       "    .dataframe tbody tr th {\n",
       "        vertical-align: top;\n",
       "    }\n",
       "\n",
       "    .dataframe thead th {\n",
       "        text-align: right;\n",
       "    }\n",
       "</style>\n",
       "<table border=\"1\" class=\"dataframe\">\n",
       "  <thead>\n",
       "    <tr style=\"text-align: right;\">\n",
       "      <th></th>\n",
       "      <th>name</th>\n",
       "      <th>position</th>\n",
       "      <th>시장가치(억)</th>\n",
       "    </tr>\n",
       "  </thead>\n",
       "  <tbody>\n",
       "    <tr>\n",
       "      <th>0</th>\n",
       "      <td>Bernd Leno</td>\n",
       "      <td>Goalkeeper</td>\n",
       "      <td>429.440</td>\n",
       "    </tr>\n",
       "    <tr>\n",
       "      <th>1</th>\n",
       "      <td>Mathew Ryan</td>\n",
       "      <td>Goalkeeper</td>\n",
       "      <td>107.360</td>\n",
       "    </tr>\n",
       "    <tr>\n",
       "      <th>2</th>\n",
       "      <td>Rúnar Alex Rúnarsson</td>\n",
       "      <td>Goalkeeper</td>\n",
       "      <td>26.840</td>\n",
       "    </tr>\n",
       "    <tr>\n",
       "      <th>3</th>\n",
       "      <td>Dejan Iliev</td>\n",
       "      <td>Goalkeeper</td>\n",
       "      <td>4.026</td>\n",
       "    </tr>\n",
       "    <tr>\n",
       "      <th>4</th>\n",
       "      <td>Gabriel</td>\n",
       "      <td>Centre-Back</td>\n",
       "      <td>375.760</td>\n",
       "    </tr>\n",
       "  </tbody>\n",
       "</table>\n",
       "</div>"
      ],
      "text/plain": [
       "                   name     position  시장가치(억)\n",
       "0            Bernd Leno   Goalkeeper  429.440\n",
       "1           Mathew Ryan   Goalkeeper  107.360\n",
       "2  Rúnar Alex Rúnarsson   Goalkeeper   26.840\n",
       "3           Dejan Iliev   Goalkeeper    4.026\n",
       "4               Gabriel  Centre-Back  375.760"
      ]
     },
     "execution_count": 2,
     "metadata": {},
     "output_type": "execute_result"
    }
   ],
   "source": [
    "df2[['name','position','시장가치(억)']].head()"
   ]
  },
  {
   "cell_type": "markdown",
   "id": "narrow-willow",
   "metadata": {},
   "source": [
    "### Select sngle column with specific name"
   ]
  },
  {
   "cell_type": "code",
   "execution_count": 3,
   "id": "billion-hobby",
   "metadata": {},
   "outputs": [
    {
     "data": {
      "text/plain": [
       "0              Bernd Leno\n",
       "1             Mathew Ryan\n",
       "2    Rúnar Alex Rúnarsson\n",
       "3             Dejan Iliev\n",
       "4                 Gabriel\n",
       "Name: name, dtype: object"
      ]
     },
     "execution_count": 3,
     "metadata": {},
     "output_type": "execute_result"
    }
   ],
   "source": [
    "df2['name'].head()"
   ]
  },
  {
   "cell_type": "code",
   "execution_count": 4,
   "id": "interesting-exhaust",
   "metadata": {},
   "outputs": [
    {
     "data": {
      "text/plain": [
       "0              Bernd Leno\n",
       "1             Mathew Ryan\n",
       "2    Rúnar Alex Rúnarsson\n",
       "3             Dejan Iliev\n",
       "4                 Gabriel\n",
       "Name: name, dtype: object"
      ]
     },
     "execution_count": 4,
     "metadata": {},
     "output_type": "execute_result"
    }
   ],
   "source": [
    "df2.name.head()"
   ]
  },
  {
   "cell_type": "markdown",
   "id": "communist-officer",
   "metadata": {},
   "source": [
    "### Select all columns between c1 and c2 (inclusivs)"
   ]
  },
  {
   "cell_type": "code",
   "execution_count": 5,
   "id": "agreed-judgment",
   "metadata": {},
   "outputs": [
    {
     "data": {
      "text/html": [
       "<div>\n",
       "<style scoped>\n",
       "    .dataframe tbody tr th:only-of-type {\n",
       "        vertical-align: middle;\n",
       "    }\n",
       "\n",
       "    .dataframe tbody tr th {\n",
       "        vertical-align: top;\n",
       "    }\n",
       "\n",
       "    .dataframe thead th {\n",
       "        text-align: right;\n",
       "    }\n",
       "</style>\n",
       "<table border=\"1\" class=\"dataframe\">\n",
       "  <thead>\n",
       "    <tr style=\"text-align: right;\">\n",
       "      <th></th>\n",
       "      <th>name</th>\n",
       "      <th>position</th>\n",
       "      <th>birth (age)</th>\n",
       "    </tr>\n",
       "  </thead>\n",
       "  <tbody>\n",
       "    <tr>\n",
       "      <th>0</th>\n",
       "      <td>Bernd Leno</td>\n",
       "      <td>Goalkeeper</td>\n",
       "      <td>Mar 4, 1992 (28)</td>\n",
       "    </tr>\n",
       "    <tr>\n",
       "      <th>1</th>\n",
       "      <td>Mathew Ryan</td>\n",
       "      <td>Goalkeeper</td>\n",
       "      <td>Apr 8, 1992 (28)</td>\n",
       "    </tr>\n",
       "    <tr>\n",
       "      <th>2</th>\n",
       "      <td>Rúnar Alex Rúnarsson</td>\n",
       "      <td>Goalkeeper</td>\n",
       "      <td>Feb 18, 1995 (25)</td>\n",
       "    </tr>\n",
       "    <tr>\n",
       "      <th>3</th>\n",
       "      <td>Dejan Iliev</td>\n",
       "      <td>Goalkeeper</td>\n",
       "      <td>Feb 25, 1995 (25)</td>\n",
       "    </tr>\n",
       "    <tr>\n",
       "      <th>4</th>\n",
       "      <td>Gabriel</td>\n",
       "      <td>Centre-Back</td>\n",
       "      <td>Dec 19, 1997 (23)</td>\n",
       "    </tr>\n",
       "  </tbody>\n",
       "</table>\n",
       "</div>"
      ],
      "text/plain": [
       "                   name     position        birth (age)\n",
       "0            Bernd Leno   Goalkeeper   Mar 4, 1992 (28)\n",
       "1           Mathew Ryan   Goalkeeper   Apr 8, 1992 (28)\n",
       "2  Rúnar Alex Rúnarsson   Goalkeeper  Feb 18, 1995 (25)\n",
       "3           Dejan Iliev   Goalkeeper  Feb 25, 1995 (25)\n",
       "4               Gabriel  Centre-Back  Dec 19, 1997 (23)"
      ]
     },
     "execution_count": 5,
     "metadata": {},
     "output_type": "execute_result"
    }
   ],
   "source": [
    "df2.loc[:,'name':'birth (age)'].head()"
   ]
  },
  {
   "cell_type": "code",
   "execution_count": 6,
   "id": "rural-sailing",
   "metadata": {},
   "outputs": [
    {
     "data": {
      "text/html": [
       "<div>\n",
       "<style scoped>\n",
       "    .dataframe tbody tr th:only-of-type {\n",
       "        vertical-align: middle;\n",
       "    }\n",
       "\n",
       "    .dataframe tbody tr th {\n",
       "        vertical-align: top;\n",
       "    }\n",
       "\n",
       "    .dataframe thead th {\n",
       "        text-align: right;\n",
       "    }\n",
       "</style>\n",
       "<table border=\"1\" class=\"dataframe\">\n",
       "  <thead>\n",
       "    <tr style=\"text-align: right;\">\n",
       "      <th></th>\n",
       "      <th>name</th>\n",
       "      <th>position</th>\n",
       "      <th>시장가치(억)</th>\n",
       "    </tr>\n",
       "  </thead>\n",
       "  <tbody>\n",
       "    <tr>\n",
       "      <th>0</th>\n",
       "      <td>Bernd Leno</td>\n",
       "      <td>Goalkeeper</td>\n",
       "      <td>429.440</td>\n",
       "    </tr>\n",
       "    <tr>\n",
       "      <th>1</th>\n",
       "      <td>Mathew Ryan</td>\n",
       "      <td>Goalkeeper</td>\n",
       "      <td>107.360</td>\n",
       "    </tr>\n",
       "    <tr>\n",
       "      <th>2</th>\n",
       "      <td>Rúnar Alex Rúnarsson</td>\n",
       "      <td>Goalkeeper</td>\n",
       "      <td>26.840</td>\n",
       "    </tr>\n",
       "    <tr>\n",
       "      <th>3</th>\n",
       "      <td>Dejan Iliev</td>\n",
       "      <td>Goalkeeper</td>\n",
       "      <td>4.026</td>\n",
       "    </tr>\n",
       "  </tbody>\n",
       "</table>\n",
       "</div>"
      ],
      "text/plain": [
       "                   name    position  시장가치(억)\n",
       "0            Bernd Leno  Goalkeeper  429.440\n",
       "1           Mathew Ryan  Goalkeeper  107.360\n",
       "2  Rúnar Alex Rúnarsson  Goalkeeper   26.840\n",
       "3           Dejan Iliev  Goalkeeper    4.026"
      ]
     },
     "execution_count": 6,
     "metadata": {},
     "output_type": "execute_result"
    }
   ],
   "source": [
    "df2.loc[df2['position'] == 'Goalkeeper', ['name','position','시장가치(억)']]"
   ]
  },
  {
   "cell_type": "markdown",
   "id": "afraid-sphere",
   "metadata": {},
   "source": [
    "### Select columns in position c1, c2 and c3 (first column is 0)"
   ]
  },
  {
   "cell_type": "code",
   "execution_count": 7,
   "id": "terminal-boating",
   "metadata": {},
   "outputs": [
    {
     "data": {
      "text/html": [
       "<div>\n",
       "<style scoped>\n",
       "    .dataframe tbody tr th:only-of-type {\n",
       "        vertical-align: middle;\n",
       "    }\n",
       "\n",
       "    .dataframe tbody tr th {\n",
       "        vertical-align: top;\n",
       "    }\n",
       "\n",
       "    .dataframe thead th {\n",
       "        text-align: right;\n",
       "    }\n",
       "</style>\n",
       "<table border=\"1\" class=\"dataframe\">\n",
       "  <thead>\n",
       "    <tr style=\"text-align: right;\">\n",
       "      <th></th>\n",
       "      <th>name</th>\n",
       "      <th>position</th>\n",
       "      <th>시장가치(억)</th>\n",
       "    </tr>\n",
       "  </thead>\n",
       "  <tbody>\n",
       "    <tr>\n",
       "      <th>0</th>\n",
       "      <td>Bernd Leno</td>\n",
       "      <td>Goalkeeper</td>\n",
       "      <td>429.440</td>\n",
       "    </tr>\n",
       "    <tr>\n",
       "      <th>1</th>\n",
       "      <td>Mathew Ryan</td>\n",
       "      <td>Goalkeeper</td>\n",
       "      <td>107.360</td>\n",
       "    </tr>\n",
       "    <tr>\n",
       "      <th>2</th>\n",
       "      <td>Rúnar Alex Rúnarsson</td>\n",
       "      <td>Goalkeeper</td>\n",
       "      <td>26.840</td>\n",
       "    </tr>\n",
       "    <tr>\n",
       "      <th>3</th>\n",
       "      <td>Dejan Iliev</td>\n",
       "      <td>Goalkeeper</td>\n",
       "      <td>4.026</td>\n",
       "    </tr>\n",
       "    <tr>\n",
       "      <th>4</th>\n",
       "      <td>Gabriel</td>\n",
       "      <td>Centre-Back</td>\n",
       "      <td>375.760</td>\n",
       "    </tr>\n",
       "  </tbody>\n",
       "</table>\n",
       "</div>"
      ],
      "text/plain": [
       "                   name     position  시장가치(억)\n",
       "0            Bernd Leno   Goalkeeper  429.440\n",
       "1           Mathew Ryan   Goalkeeper  107.360\n",
       "2  Rúnar Alex Rúnarsson   Goalkeeper   26.840\n",
       "3           Dejan Iliev   Goalkeeper    4.026\n",
       "4               Gabriel  Centre-Back  375.760"
      ]
     },
     "execution_count": 7,
     "metadata": {},
     "output_type": "execute_result"
    }
   ],
   "source": [
    "df2.iloc[:,[1,2,5]].head()"
   ]
  }
 ],
 "metadata": {
  "kernelspec": {
   "display_name": "Python 3",
   "language": "python",
   "name": "python3"
  },
  "language_info": {
   "codemirror_mode": {
    "name": "ipython",
    "version": 3
   },
   "file_extension": ".py",
   "mimetype": "text/x-python",
   "name": "python",
   "nbconvert_exporter": "python",
   "pygments_lexer": "ipython3",
   "version": "3.8.5"
  }
 },
 "nbformat": 4,
 "nbformat_minor": 5
}
